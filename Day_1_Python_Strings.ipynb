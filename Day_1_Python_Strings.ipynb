{
  "nbformat": 4,
  "nbformat_minor": 0,
  "metadata": {
    "colab": {
      "provenance": [],
      "authorship_tag": "ABX9TyN+a7SHu3fawP3X0JFRyCac",
      "include_colab_link": true
    },
    "kernelspec": {
      "name": "python3",
      "display_name": "Python 3"
    },
    "language_info": {
      "name": "python"
    }
  },
  "cells": [
    {
      "cell_type": "markdown",
      "metadata": {
        "id": "view-in-github",
        "colab_type": "text"
      },
      "source": [
        "<a href=\"https://colab.research.google.com/github/arulbenjaminchandru/roadtods/blob/main/Day_1_Python_Strings.ipynb\" target=\"_parent\"><img src=\"https://colab.research.google.com/assets/colab-badge.svg\" alt=\"Open In Colab\"/></a>"
      ]
    },
    {
      "cell_type": "markdown",
      "source": [
        "Create 3 variables to store street, city and country, now create address variable to store entire address. Use two ways of creating this variable, one using + operator and the other using f-string. Now Print the address in such a way that the street, city and country prints in a separate line\n",
        "\n"
      ],
      "metadata": {
        "id": "S6C5OxtsBfgM"
      }
    },
    {
      "cell_type": "code",
      "source": [
        "street = \"MG Road\"\n",
        "city = \"Chennai\"\n",
        "country = \"India\"\n",
        "\n",
        "address = street + \"\\n\" + city + \"\\n\" + country\n",
        "print(address)\n",
        "\n",
        "address1 = f'{street}\\n{city}\\n{country}'\n",
        "print(address1)\n"
      ],
      "metadata": {
        "colab": {
          "base_uri": "https://localhost:8080/"
        },
        "id": "xdnM1n0yCDeS",
        "outputId": "63af849d-6947-44ec-c534-3aa289637109"
      },
      "execution_count": 3,
      "outputs": [
        {
          "output_type": "stream",
          "name": "stdout",
          "text": [
            "MG Road\n",
            "Chennai\n",
            "India\n",
            "MG Road\n",
            "Chennai\n",
            "India\n"
          ]
        }
      ]
    },
    {
      "cell_type": "markdown",
      "source": [
        "Create a variable to store the string \"Earth revolves around the sun\"\n",
        "\n",
        "    Print \"revolves\" using slice operator\n",
        "\n",
        "    Print \"sun\" using negative index\n",
        "\n"
      ],
      "metadata": {
        "id": "PAphXGLdDTza"
      }
    },
    {
      "cell_type": "code",
      "execution_count": 15,
      "metadata": {
        "colab": {
          "base_uri": "https://localhost:8080/"
        },
        "id": "7vnly0H3Bd6o",
        "outputId": "fcd0b968-7d30-4b41-bd85-b1777de63b6d"
      },
      "outputs": [
        {
          "output_type": "stream",
          "name": "stdout",
          "text": [
            "revolves\n",
            "sun\n",
            "nus eht dnuora sevlover htraE\n"
          ]
        }
      ],
      "source": [
        "text = \"Earth revolves around the sun\"\n",
        "\n",
        "print(text[6:14])\n",
        "print(text[-3:])\n",
        "print(text[::-1])\n",
        "\n"
      ]
    },
    {
      "cell_type": "markdown",
      "source": [
        "Create two variables to store how many fruits and vegetables you eat in a day. Now Print \"I eat x veggies and y fruits daily\" where x and y presents vegetables and fruits that you eat everyday. Use python f string for this.\n"
      ],
      "metadata": {
        "id": "D6dUln6OFS6f"
      }
    },
    {
      "cell_type": "code",
      "source": [
        "x = 5\n",
        "y = 10\n",
        "\n",
        "print(f\"I eat {x} veggies and {y} fruits daily\")\n",
        "print(\"I eat {} veggies and {} fruits daily\".format(x,y))"
      ],
      "metadata": {
        "colab": {
          "base_uri": "https://localhost:8080/"
        },
        "id": "1_jSguziFVZg",
        "outputId": "948195ee-fd02-4624-91ce-e8b26bc046df"
      },
      "execution_count": 17,
      "outputs": [
        {
          "output_type": "stream",
          "name": "stdout",
          "text": [
            "I eat 5 veggies and 10 fruits daily\n",
            "I eat 5 veggies and 10 fruits daily\n"
          ]
        }
      ]
    },
    {
      "cell_type": "markdown",
      "source": [
        "\n",
        "I have a string variable called s='maine 200 banana khaye'. This of course is a wrong statement, the correct statement is 'maine 10 samosa khaye'.\n",
        "Replace incorrect words in original strong with new ones and print the new string. Also try to do this in one line."
      ],
      "metadata": {
        "id": "QuUGcjAoF-WI"
      }
    },
    {
      "cell_type": "code",
      "source": [
        "s='maine 200 banana khaye'\n",
        "\n",
        "print(s.replace(\"200 banana\",\"10 samosa\"))\n",
        "\n",
        "print(s.replace(\"200\",\"10\").replace(\"banana\",\"samosa\"))"
      ],
      "metadata": {
        "colab": {
          "base_uri": "https://localhost:8080/"
        },
        "id": "YfsBJ14LF_9A",
        "outputId": "b83138b3-325f-4f91-fb3d-ef03aa7d8dbc"
      },
      "execution_count": 21,
      "outputs": [
        {
          "output_type": "stream",
          "name": "stdout",
          "text": [
            "maine 10 samosa khaye\n",
            "maine 10 samosa khaye\n"
          ]
        }
      ]
    },
    {
      "cell_type": "code",
      "source": [
        "sentence = \"I love cats and dogs. Cats are cute, and dogs are loyal.\"\n",
        "words_to_replace = {\n",
        "    \"cats\": \"kittens\",\n",
        "    \"dogs\": \"puppies\",\n",
        "    \"love\": \"adore\"\n",
        "}\n",
        "\n",
        "new_sentence = sentence\n",
        "\n",
        "for word, replacement in words_to_replace.items():\n",
        "    new_sentence = new_sentence.replace(word, replacement)\n",
        "\n",
        "print(new_sentence)\n"
      ],
      "metadata": {
        "colab": {
          "base_uri": "https://localhost:8080/"
        },
        "id": "eY5kCyzUHiHr",
        "outputId": "6c6ffaf1-8524-44e2-bb3f-a1e33ce76a74"
      },
      "execution_count": 22,
      "outputs": [
        {
          "output_type": "stream",
          "name": "stdout",
          "text": [
            "I adore kittens and puppies. Cats are cute, and puppies are loyal.\n"
          ]
        }
      ]
    }
  ]
}