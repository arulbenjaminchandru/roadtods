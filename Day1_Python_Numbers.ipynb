{
  "nbformat": 4,
  "nbformat_minor": 0,
  "metadata": {
    "colab": {
      "provenance": [],
      "authorship_tag": "ABX9TyNreWSd0r9IDtlYqAiS77qf",
      "include_colab_link": true
    },
    "kernelspec": {
      "name": "python3",
      "display_name": "Python 3"
    },
    "language_info": {
      "name": "python"
    }
  },
  "cells": [
    {
      "cell_type": "markdown",
      "metadata": {
        "id": "view-in-github",
        "colab_type": "text"
      },
      "source": [
        "<a href=\"https://colab.research.google.com/github/arulbenjaminchandru/roadtods/blob/main/Day1_Python_Numbers.ipynb\" target=\"_parent\"><img src=\"https://colab.research.google.com/assets/colab-badge.svg\" alt=\"Open In Colab\"/></a>"
      ]
    },
    {
      "cell_type": "code",
      "execution_count": null,
      "metadata": {
        "id": "uMTE47OS9-uc"
      },
      "outputs": [],
      "source": []
    },
    {
      "cell_type": "markdown",
      "source": [
        "You have a football field that is 92 meter long and 48.8 meter wide. Find out total area using python and print it."
      ],
      "metadata": {
        "id": "cu8O7l_9-EwG"
      }
    },
    {
      "cell_type": "code",
      "source": [
        "length = 92\n",
        "width = 48.8\n",
        "\n",
        "area = length * width\n",
        "\n",
        "print(area)"
      ],
      "metadata": {
        "colab": {
          "base_uri": "https://localhost:8080/"
        },
        "id": "E8zol84e-K7_",
        "outputId": "2673cf46-bad3-4544-9ff8-b149bbc56d03"
      },
      "execution_count": 1,
      "outputs": [
        {
          "output_type": "stream",
          "name": "stdout",
          "text": [
            "4489.599999999999\n"
          ]
        }
      ]
    },
    {
      "cell_type": "markdown",
      "source": [
        "You bought 9 packets of potato chips from a store. Each packet costs 1.49 dollar and you gave shopkeeper 20 dollar. Find out using python, how many dollars is the shopkeeper going to give you back?\n"
      ],
      "metadata": {
        "id": "17oZVU_E-oLW"
      }
    },
    {
      "cell_type": "code",
      "source": [
        "pack_of_potato_chips = 1.49\n",
        "giving_to_shop = 20\n",
        "total_pack = 9\n",
        "\n",
        "remain_bal = giving_to_shop - (pack_of_potato_chips * total_pack)\n",
        "\n",
        "print(remain_bal)"
      ],
      "metadata": {
        "colab": {
          "base_uri": "https://localhost:8080/"
        },
        "id": "WDkMk1zr-x-i",
        "outputId": "a06626d8-64bc-42a3-8fe9-d87be8cb22b2"
      },
      "execution_count": 2,
      "outputs": [
        {
          "output_type": "stream",
          "name": "stdout",
          "text": [
            "6.59\n"
          ]
        }
      ]
    },
    {
      "cell_type": "markdown",
      "source": [
        "\n",
        "You want to replace tiles in your bathroom which is exactly square and 5.5 feet is its length. If tiles cost 500 rs per square feet, how much will be the total cost to replace all tiles. Calculate and print the cost using python (Hint: Use power operator ** to find area of a square)\n",
        "\n"
      ],
      "metadata": {
        "id": "YJ3In-Fz_WhF"
      }
    },
    {
      "cell_type": "code",
      "source": [
        "total_area = 5.5 ** 2\n",
        "\n",
        "total_cost = total_area * 500\n",
        "\n",
        "print(total_cost)"
      ],
      "metadata": {
        "colab": {
          "base_uri": "https://localhost:8080/"
        },
        "id": "5J_YhoOQ_VD6",
        "outputId": "f2762ad4-d2ff-438a-94ba-b08f70a9f809"
      },
      "execution_count": 4,
      "outputs": [
        {
          "output_type": "stream",
          "name": "stdout",
          "text": [
            "15125.0\n"
          ]
        }
      ]
    },
    {
      "cell_type": "markdown",
      "source": [
        "Print binary representation of number 17"
      ],
      "metadata": {
        "id": "GCgksWTLALBN"
      }
    },
    {
      "cell_type": "code",
      "source": [
        "num = 17\n",
        "\n",
        "print(bin(17))\n",
        "\n",
        "print(format(num,'b'))"
      ],
      "metadata": {
        "colab": {
          "base_uri": "https://localhost:8080/"
        },
        "id": "qwqHRp5cAOzh",
        "outputId": "d4270e4e-b183-4878-945f-073dca4a8316"
      },
      "execution_count": 9,
      "outputs": [
        {
          "output_type": "stream",
          "name": "stdout",
          "text": [
            "0b10001\n",
            "10001\n"
          ]
        }
      ]
    }
  ]
}