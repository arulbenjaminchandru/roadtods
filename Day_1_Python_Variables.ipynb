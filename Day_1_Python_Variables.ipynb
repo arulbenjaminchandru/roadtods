{
  "nbformat": 4,
  "nbformat_minor": 0,
  "metadata": {
    "colab": {
      "provenance": [],
      "authorship_tag": "ABX9TyMWZo2qU+IR+NYaW6g2bWSy",
      "include_colab_link": true
    },
    "kernelspec": {
      "name": "python3",
      "display_name": "Python 3"
    },
    "language_info": {
      "name": "python"
    }
  },
  "cells": [
    {
      "cell_type": "markdown",
      "metadata": {
        "id": "view-in-github",
        "colab_type": "text"
      },
      "source": [
        "<a href=\"https://colab.research.google.com/github/arulbenjaminchandru/roadtods/blob/main/Day_1_Python_Variables.ipynb\" target=\"_parent\"><img src=\"https://colab.research.google.com/assets/colab-badge.svg\" alt=\"Open In Colab\"/></a>"
      ]
    },
    {
      "cell_type": "code",
      "execution_count": null,
      "metadata": {
        "id": "jcJo-pI518tT"
      },
      "outputs": [],
      "source": []
    },
    {
      "cell_type": "markdown",
      "source": [
        "Create a variable called break and assign it a value 5. See what happens and find out the reason behind the behavior that you see.\n",
        "\n"
      ],
      "metadata": {
        "id": "9QUN7iDZ1-Bv"
      }
    },
    {
      "cell_type": "code",
      "source": [
        "break = 5"
      ],
      "metadata": {
        "colab": {
          "base_uri": "https://localhost:8080/",
          "height": 131
        },
        "id": "_oqkG1ol2GoF",
        "outputId": "74b0256c-2f47-4191-db1a-f651c019a3c0"
      },
      "execution_count": null,
      "outputs": [
        {
          "output_type": "error",
          "ename": "SyntaxError",
          "evalue": "ignored",
          "traceback": [
            "\u001b[0;36m  File \u001b[0;32m\"<ipython-input-1-00bd2e73219f>\"\u001b[0;36m, line \u001b[0;32m1\u001b[0m\n\u001b[0;31m    break = 5\u001b[0m\n\u001b[0m          ^\u001b[0m\n\u001b[0;31mSyntaxError\u001b[0m\u001b[0;31m:\u001b[0m invalid syntax\n"
          ]
        }
      ]
    },
    {
      "cell_type": "markdown",
      "source": [
        "Create two variables. One to store your birth year and another one to store current year. Now calculate your age using these two variables"
      ],
      "metadata": {
        "id": "KVvFa7jS4W0x"
      }
    },
    {
      "cell_type": "code",
      "source": [
        "from datetime import *\n",
        "\n",
        "birth_year = 1989\n",
        "current_year = datetime.now().year\n",
        "\n",
        "age = current_year - birth_year\n",
        "\n",
        "print(age)"
      ],
      "metadata": {
        "colab": {
          "base_uri": "https://localhost:8080/"
        },
        "id": "-yFglen74iG3",
        "outputId": "ce56e9a5-e9e7-41d2-8c3a-c9cf907acd07"
      },
      "execution_count": 19,
      "outputs": [
        {
          "output_type": "stream",
          "name": "stdout",
          "text": [
            "34\n"
          ]
        }
      ]
    },
    {
      "cell_type": "markdown",
      "source": [
        "Store your first, middle and last name in three different variables and then print your full name using these variables"
      ],
      "metadata": {
        "id": "uZgTyujZ6TcK"
      }
    },
    {
      "cell_type": "code",
      "source": [
        "first_name = \"Arul\"\n",
        "middle_name = \"Benjamin\"\n",
        "last_name = \"Chandru\"\n",
        "\n",
        "full_name = \"{} {} {}\".format(first_name,middle_name,last_name)\n",
        "\n",
        "full_name_join = \"|\".join([first_name,middle_name,last_name])\n",
        "\n",
        "full_name_perc = \"% s % s % s\" % (first_name, middle_name, last_name)\n",
        "\n",
        "print(full_name)\n",
        "print(full_name_join)\n",
        "print(full_name_perc)"
      ],
      "metadata": {
        "colab": {
          "base_uri": "https://localhost:8080/"
        },
        "id": "6xD-3-j36ayu",
        "outputId": "2e0f8e4b-2189-4f97-d875-80fbcb16c267"
      },
      "execution_count": 24,
      "outputs": [
        {
          "output_type": "stream",
          "name": "stdout",
          "text": [
            "Arul Benjamin Chandru\n",
            "Arul|Benjamin|Chandru\n",
            "Arul Benjamin Chandru\n"
          ]
        }
      ]
    },
    {
      "cell_type": "markdown",
      "source": [
        "Answer which of these are invalid variable names: _nation 1record record1 record_one record-one record^one continue"
      ],
      "metadata": {
        "id": "hxQF-UUx7_lk"
      }
    },
    {
      "cell_type": "code",
      "source": [
        "_nation = \"Test\"\n",
        "\n",
        "1record = \"\""
      ],
      "metadata": {
        "colab": {
          "base_uri": "https://localhost:8080/",
          "height": 131
        },
        "id": "LSBTyt388GJY",
        "outputId": "5e108ec2-cfd8-47f4-efb3-9b5467cd8bfc"
      },
      "execution_count": 27,
      "outputs": [
        {
          "output_type": "error",
          "ename": "SyntaxError",
          "evalue": "ignored",
          "traceback": [
            "\u001b[0;36m  File \u001b[0;32m\"<ipython-input-27-2f1de9268e7c>\"\u001b[0;36m, line \u001b[0;32m3\u001b[0m\n\u001b[0;31m    1record = \"\"\u001b[0m\n\u001b[0m    ^\u001b[0m\n\u001b[0;31mSyntaxError\u001b[0m\u001b[0;31m:\u001b[0m invalid decimal literal\n"
          ]
        }
      ]
    },
    {
      "cell_type": "code",
      "source": [
        "record1 = \"Test\"\n",
        "\n",
        "record_one = \"\"\n",
        "\n",
        "record-one = \"\""
      ],
      "metadata": {
        "colab": {
          "base_uri": "https://localhost:8080/",
          "height": 131
        },
        "id": "t5O6q2Zn8Q-l",
        "outputId": "f132dae6-c976-4845-f0fb-654ca45a12d0"
      },
      "execution_count": 30,
      "outputs": [
        {
          "output_type": "error",
          "ename": "SyntaxError",
          "evalue": "ignored",
          "traceback": [
            "\u001b[0;36m  File \u001b[0;32m\"<ipython-input-30-dd0b8517ab8a>\"\u001b[0;36m, line \u001b[0;32m5\u001b[0m\n\u001b[0;31m    record-one = \"\"\u001b[0m\n\u001b[0m    ^\u001b[0m\n\u001b[0;31mSyntaxError\u001b[0m\u001b[0;31m:\u001b[0m cannot assign to expression here. Maybe you meant '==' instead of '='?\n"
          ]
        }
      ]
    },
    {
      "cell_type": "code",
      "source": [
        "record^one = \"\""
      ],
      "metadata": {
        "colab": {
          "base_uri": "https://localhost:8080/",
          "height": 131
        },
        "id": "DheUnrPr8r2l",
        "outputId": "4384a7ca-09b6-4635-9a8b-564104994f51"
      },
      "execution_count": 31,
      "outputs": [
        {
          "output_type": "error",
          "ename": "SyntaxError",
          "evalue": "ignored",
          "traceback": [
            "\u001b[0;36m  File \u001b[0;32m\"<ipython-input-31-4e3fbd6342c5>\"\u001b[0;36m, line \u001b[0;32m1\u001b[0m\n\u001b[0;31m    record^one = \"\"\u001b[0m\n\u001b[0m    ^\u001b[0m\n\u001b[0;31mSyntaxError\u001b[0m\u001b[0;31m:\u001b[0m cannot assign to expression here. Maybe you meant '==' instead of '='?\n"
          ]
        }
      ]
    },
    {
      "cell_type": "code",
      "source": [
        "continue = \"\""
      ],
      "metadata": {
        "colab": {
          "base_uri": "https://localhost:8080/",
          "height": 131
        },
        "id": "4sjm1h8w83Xx",
        "outputId": "b1238937-5971-46a0-cb8a-44ba2457a7be"
      },
      "execution_count": 32,
      "outputs": [
        {
          "output_type": "error",
          "ename": "SyntaxError",
          "evalue": "ignored",
          "traceback": [
            "\u001b[0;36m  File \u001b[0;32m\"<ipython-input-32-81e5de0e52ca>\"\u001b[0;36m, line \u001b[0;32m1\u001b[0m\n\u001b[0;31m    continue = \"\"\u001b[0m\n\u001b[0m             ^\u001b[0m\n\u001b[0;31mSyntaxError\u001b[0m\u001b[0;31m:\u001b[0m invalid syntax\n"
          ]
        }
      ]
    }
  ]
}